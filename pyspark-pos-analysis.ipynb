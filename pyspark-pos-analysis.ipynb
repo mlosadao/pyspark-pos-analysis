{
 "cells": [
  {
   "cell_type": "markdown",
   "id": "c056ee16",
   "metadata": {},
   "source": [
    "# PySpark Part of Speech (POS) analysis\n",
    "Text taken from [Reuters](https://www.reuters.com/business/finance/banks-beware-outsiders-are-cracking-code-finance-2021-09-17/)."
   ]
  },
  {
   "cell_type": "code",
   "execution_count": 2,
   "id": "3ddbef1d",
   "metadata": {},
   "outputs": [],
   "source": [
    "import nltk\n",
    "from pyspark import SparkContext"
   ]
  },
  {
   "cell_type": "code",
   "execution_count": 3,
   "id": "cad46f10-a273-4698-9657-f66af586d088",
   "metadata": {},
   "outputs": [],
   "source": [
    "from nltk.tokenize import word_tokenize"
   ]
  },
  {
   "cell_type": "code",
   "execution_count": 4,
   "id": "9b5d92ed",
   "metadata": {},
   "outputs": [
    {
     "name": "stderr",
     "output_type": "stream",
     "text": [
      "[nltk_data] Downloading package punkt to\n",
      "[nltk_data]     C:\\Users\\mateo\\AppData\\Roaming\\nltk_data...\n",
      "[nltk_data]   Package punkt is already up-to-date!\n",
      "[nltk_data] Downloading package averaged_perceptron_tagger to\n",
      "[nltk_data]     C:\\Users\\mateo\\AppData\\Roaming\\nltk_data...\n",
      "[nltk_data]   Package averaged_perceptron_tagger is already up-to-\n",
      "[nltk_data]       date!\n",
      "[nltk_data] Downloading package universal_tagset to\n",
      "[nltk_data]     C:\\Users\\mateo\\AppData\\Roaming\\nltk_data...\n",
      "[nltk_data]   Package universal_tagset is already up-to-date!\n"
     ]
    },
    {
     "data": {
      "text/plain": [
       "True"
      ]
     },
     "execution_count": 4,
     "metadata": {},
     "output_type": "execute_result"
    }
   ],
   "source": [
    "nltk.download(\"punkt\")\n",
    "nltk.download(\"averaged_perceptron_tagger\")\n",
    "nltk.download('universal_tagset')"
   ]
  },
  {
   "cell_type": "code",
   "execution_count": 5,
   "id": "462a059d",
   "metadata": {},
   "outputs": [],
   "source": [
    "# Entry point for working with RDD\n",
    "sc = SparkContext(appName = \"pyspark-pos-analysis\")"
   ]
  },
  {
   "cell_type": "code",
   "execution_count": 6,
   "id": "f72d6037",
   "metadata": {},
   "outputs": [],
   "source": [
    "# Loading a text file\n",
    "rdd_reuters = sc.textFile(\"./data/reuters.txt\")"
   ]
  },
  {
   "cell_type": "code",
   "execution_count": 7,
   "id": "64c6d905",
   "metadata": {},
   "outputs": [
    {
     "data": {
      "text/plain": [
       "87"
      ]
     },
     "execution_count": 7,
     "metadata": {},
     "output_type": "execute_result"
    }
   ],
   "source": [
    "rdd_reuters.count()"
   ]
  },
  {
   "cell_type": "code",
   "execution_count": 8,
   "id": "91224721-c366-4463-8fa0-1b8ff971c89b",
   "metadata": {},
   "outputs": [
    {
     "data": {
      "text/plain": [
       "['Banks beware, Amazon and Walmart are cracking the code for finance',\n",
       " '',\n",
       " 'LONDON, Sept 17 (Reuters) - Anyone can be a banker these days, you just need the right code.',\n",
       " '',\n",
       " 'Global brands from Mercedes and Amazon (AMZN.O) to IKEA and Walmart (WMT.N) are cutting out the traditional financial middleman and plugging in software from tech startups to offer customers everything from banking and credit to insurance.']"
      ]
     },
     "execution_count": 8,
     "metadata": {},
     "output_type": "execute_result"
    }
   ],
   "source": [
    "rdd_reuters.take(5)"
   ]
  },
  {
   "cell_type": "code",
   "execution_count": 13,
   "id": "c068d75e",
   "metadata": {},
   "outputs": [
    {
     "name": "stdout",
     "output_type": "stream",
     "text": [
      "Banks\n",
      "beware\n",
      ",\n",
      "Amazon\n",
      "and\n"
     ]
    },
    {
     "data": {
      "text/plain": [
       "[None, None, None, None, None]"
      ]
     },
     "execution_count": 13,
     "metadata": {},
     "output_type": "execute_result"
    }
   ],
   "source": [
    "words = []\n",
    "[words.extend(word_tokenize(t)) for t in rdd_reuters.collect()]\n",
    "[print(a) for a in words[:5]]"
   ]
  },
  {
   "cell_type": "code",
   "execution_count": 14,
   "id": "dc6523c5-e9b2-4eeb-961a-4009fdf59f6f",
   "metadata": {},
   "outputs": [
    {
     "data": {
      "text/plain": [
       "[('NOUN', 422),\n",
       " ('VERB', 248),\n",
       " ('.', 209),\n",
       " ('ADP', 143),\n",
       " ('ADJ', 95),\n",
       " ('DET', 91),\n",
       " ('ADV', 61),\n",
       " ('PRT', 59),\n",
       " ('PRON', 56),\n",
       " ('CONJ', 45),\n",
       " ('NUM', 35)]"
      ]
     },
     "execution_count": 14,
     "metadata": {},
     "output_type": "execute_result"
    }
   ],
   "source": [
    "tagged_words = nltk.pos_tag(words, tagset='universal')\n",
    "tag_fd = nltk.FreqDist(tag for (word, tag) in tagged_words)\n",
    "tag_fd.most_common()"
   ]
  },
  {
   "cell_type": "code",
   "execution_count": null,
   "id": "84fc6cfd",
   "metadata": {},
   "outputs": [],
   "source": [
    "sc.stop()"
   ]
  },
  {
   "cell_type": "code",
   "execution_count": null,
   "id": "cc91d235",
   "metadata": {},
   "outputs": [],
   "source": []
  }
 ],
 "metadata": {
  "kernelspec": {
   "display_name": "Python 3 (ipykernel)",
   "language": "python",
   "name": "python3"
  },
  "language_info": {
   "codemirror_mode": {
    "name": "ipython",
    "version": 3
   },
   "file_extension": ".py",
   "mimetype": "text/x-python",
   "name": "python",
   "nbconvert_exporter": "python",
   "pygments_lexer": "ipython3",
   "version": "3.9.7"
  }
 },
 "nbformat": 4,
 "nbformat_minor": 5
}
